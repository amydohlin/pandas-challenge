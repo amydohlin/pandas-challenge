{
 "cells": [
  {
   "cell_type": "markdown",
   "metadata": {},
   "source": [
    "# PyCity Schools Analysis\n",
    "\n",
    "- Your analysis here\n",
    "  \n",
    "---"
   ]
  },
  {
   "cell_type": "code",
   "execution_count": null,
   "metadata": {},
   "outputs": [],
   "source": [
    "# Dependencies and Setup\n",
    "import pandas as pd\n",
    "from pathlib import Path\n"
   ]
  },
  {
   "cell_type": "code",
   "execution_count": null,
   "metadata": {},
   "outputs": [],
   "source": [
    "# File to Load (Remember to Change These)\n",
    "# Constants\n",
    "SCHOOL_DATA_PATH = Path(\"Resources/schools_complete.csv\")\n",
    "STUDENT_DATA_PATH = Path(\"Resources/students_complete.csv\")"
   ]
  },
  {
   "cell_type": "code",
   "execution_count": null,
   "metadata": {},
   "outputs": [],
   "source": [
    "# Read School Data File and store into Pandas DataFrames\n",
    "school_data_df = pd.read_csv(SCHOOL_DATA_PATH)\n",
    "school_data_df"
   ]
  },
  {
   "cell_type": "code",
   "execution_count": null,
   "metadata": {},
   "outputs": [],
   "source": [
    "# Read Student Data File and store into Pandas DataFrames\n",
    "student_data_df = pd.read_csv(STUDENT_DATA_PATH)\n",
    "student_data_df"
   ]
  },
  {
   "cell_type": "code",
   "execution_count": null,
   "metadata": {},
   "outputs": [],
   "source": [
    "# Combine the data into a single dataset.  \n",
    "school_data_complete_df = pd.merge(student_data_df, school_data_df, how=\"left\", on=[\"school_name\", \"school_name\"])\n",
    "print(school_data_complete_df.shape)\n",
    "school_data_complete_df.head()\n"
   ]
  },
  {
   "cell_type": "markdown",
   "metadata": {},
   "source": [
    "## District Summary"
   ]
  },
  {
   "cell_type": "code",
   "execution_count": null,
   "metadata": {},
   "outputs": [],
   "source": [
    "# Calculate the total number of unique schools\n",
    "\n",
    "school_count = school_data_complete_df[\"school_name\"].nunique()\n",
    "school_count"
   ]
  },
  {
   "cell_type": "code",
   "execution_count": null,
   "metadata": {},
   "outputs": [],
   "source": [
    "# Calculate the total number of students\n",
    "student_count = school_data_complete_df[\"Student ID\"].nunique()\n",
    "student_count"
   ]
  },
  {
   "cell_type": "code",
   "execution_count": null,
   "metadata": {},
   "outputs": [],
   "source": [
    "# Calculate the total budget\n",
    "\n",
    "total_budget = school_data_df[\"budget\"].sum()\n",
    "print(\"$\",total_budget)\n",
    "\n"
   ]
  },
  {
   "cell_type": "code",
   "execution_count": null,
   "metadata": {},
   "outputs": [],
   "source": [
    "# Calculate the average (mean) math score\n",
    "average_math_score = school_data_complete_df[\"math_score\"].mean()\n",
    "average_math_score"
   ]
  },
  {
   "cell_type": "code",
   "execution_count": null,
   "metadata": {},
   "outputs": [],
   "source": [
    "# Calculate the average (mean) reading score\n",
    "average_reading_score = school_data_complete_df[\"reading_score\"].mean()\n",
    "average_reading_score"
   ]
  },
  {
   "cell_type": "code",
   "execution_count": null,
   "metadata": {},
   "outputs": [],
   "source": [
    "# Use the following to calculate the percentage of students who passed math (math scores greather than or equal to 70)\n",
    "passing_math_count = school_data_complete_df[(school_data_complete_df[\"math_score\"] >= 70)].count()[\"Student ID\"]\n",
    "passing_math_percentage = passing_math_count / float(student_count) * 100\n",
    "passing_math_percentage"
   ]
  },
  {
   "cell_type": "code",
   "execution_count": null,
   "metadata": {},
   "outputs": [],
   "source": [
    "# Calculate the percentage of students who passed reading (hint: look at how the math percentage was calculated)  \n",
    "passing_reading_count = school_data_complete_df[(school_data_complete_df[\"reading_score\"] >= 70)].count()[\"Student ID\"]\n",
    "#passing_reading_count\n",
    "\n",
    "passing_reading_percentage = passing_reading_count / float(student_count) * 100\n",
    "passing_reading_percentage"
   ]
  },
  {
   "cell_type": "code",
   "execution_count": null,
   "metadata": {},
   "outputs": [],
   "source": [
    "# Use the following to calculate the percentage of students that passed math and reading\n",
    "passing_math_reading_count = school_data_complete_df[\n",
    "    (school_data_complete_df[\"math_score\"] >= 70) & (school_data_complete_df[\"reading_score\"] >= 70)\n",
    "    ].count()[\"Student ID\"]\n",
    "overall_passing_rate = passing_math_reading_count /  float(student_count) * 100\n",
    "overall_passing_rate"
   ]
  },
  {
   "cell_type": "code",
   "execution_count": null,
   "metadata": {},
   "outputs": [],
   "source": [
    "# Create a high-level snapshot of the district's key metrics in a DataFrame\n",
    "district_summary = pd.DataFrame({\"Total Schools\": [school_count],\n",
    "                                \"Total Students\": [student_count],\n",
    "                                \"Total Budget\": [total_budget],\n",
    "                                \"Average Math Score\": [average_math_score],\n",
    "                                \"Average Reading Score\": [average_reading_score],\n",
    "                                \"% of Students That Passed Math\": [passing_math_percentage],\n",
    "                                \"% of Students That Passed Reading\": [passing_reading_percentage],\n",
    "                                \"% of Students That Passed Math and Reading\":[overall_passing_rate]})\n",
    "\n",
    "# Formatting\n",
    "district_summary[\"Total Students\"] = district_summary[\"Total Students\"].map(\"{:,}\".format)\n",
    "district_summary[\"Total Budget\"] = district_summary[\"Total Budget\"].map(\"${:,.2f}\".format)\n",
    "\n",
    "# Display the DataFrame\n",
    "district_summary"
   ]
  },
  {
   "cell_type": "markdown",
   "metadata": {},
   "source": [
    "## School Summary"
   ]
  },
  {
   "cell_type": "code",
   "execution_count": null,
   "metadata": {},
   "outputs": [],
   "source": [
    "# Use the code provided to select all of the school types\n",
    "school_types = school_data_complete_df.set_index([\"school_name\"])[\"type\"].reset_index().drop_duplicates()\n",
    "school_types\n"
   ]
  },
  {
   "cell_type": "code",
   "execution_count": null,
   "metadata": {},
   "outputs": [],
   "source": [
    "# Calculate the total student count per school\n",
    "per_school_counts= school_data_complete_df[\"school_name\"].value_counts()\n",
    "per_school_counts"
   ]
  },
  {
   "cell_type": "code",
   "execution_count": null,
   "metadata": {},
   "outputs": [],
   "source": [
    "# Calculate the total school budget and per capita spending per school\n",
    "per_school_budget=school_data_complete_df.groupby([\"school_name\"])[\"budget\"].mean()\n",
    "per_school_budget\n",
    "\n",
    "# use total per school budget and divide by number of students\n",
    "per_school_capita = per_school_budget/per_school_counts\n",
    "per_school_capita"
   ]
  },
  {
   "cell_type": "code",
   "execution_count": null,
   "metadata": {
    "scrolled": false
   },
   "outputs": [],
   "source": [
    "# Calculate the average test scores per school\n",
    "per_school_math = school_data_complete_df.groupby([\"school_name\"])[\"math_score\"].mean()\n",
    "per_school_reading = school_data_complete_df.groupby([\"school_name\"])[\"reading_score\"].mean()\n",
    "print(\"Average Math Test Scores Per School\")\n",
    "print(per_school_math)\n",
    "print(\"---------------------------------------\")\n",
    "print(\"Average Reading Test Scores Per School\")\n",
    "print(per_school_reading)"
   ]
  },
  {
   "cell_type": "code",
   "execution_count": null,
   "metadata": {},
   "outputs": [],
   "source": [
    "# Calculate the number of students per school with math scores of 70 or higher\n",
    "\n",
    "# First assign a variable to hold the math scores that are greater than or equal to 70.\n",
    "students_passing_math = school_data_complete_df[(school_data_complete_df[\"math_score\"] >= 70)]\n",
    "\n",
    "# Show the number of passing math scores with each school.\n",
    "per_school_students_passing_math=students_passing_math.groupby([\"school_name\"]).size()\n",
    "per_school_students_passing_math"
   ]
  },
  {
   "cell_type": "code",
   "execution_count": null,
   "metadata": {},
   "outputs": [],
   "source": [
    "# Calculate the number of students per school with reading scores of 70 or higher\n",
    "\n",
    "# First assign a variable to hold the reading scores that are greater than or equal to 70.\n",
    "students_passing_reading = school_data_complete_df[(school_data_complete_df[\"reading_score\"] >= 70)]\n",
    "\n",
    "# Show the number of passing reading scores with each school.\n",
    "per_school_students_passing_reading = students_passing_reading.groupby([\"school_name\"]).size()\n",
    "per_school_students_passing_reading"
   ]
  },
  {
   "cell_type": "code",
   "execution_count": null,
   "metadata": {},
   "outputs": [],
   "source": [
    "# Use the provided code to calculate the number of students per school that passed both math and reading with scores of 70 or higher\n",
    "students_passing_math_and_reading = school_data_complete_df[\n",
    "    (school_data_complete_df[\"reading_score\"] >= 70) & (school_data_complete_df[\"math_score\"] >= 70)]\n",
    "per_school_students_passing_math_and_reading = students_passing_math_and_reading.groupby([\"school_name\"]).size()\n",
    "per_school_students_passing_math_and_reading"
   ]
  },
  {
   "cell_type": "code",
   "execution_count": null,
   "metadata": {},
   "outputs": [],
   "source": [
    "# Use the provided code to calculate the passing rates\n",
    "per_school_passing_math = per_school_students_passing_math / per_school_counts * 100\n",
    "per_school_passing_reading = per_school_students_passing_reading / per_school_counts * 100\n",
    "overall_passing_rate = per_school_students_passing_math_and_reading / per_school_counts * 100\n",
    "\n",
    "print(\"Percent of Students Passing Math Per School\")\n",
    "print(per_school_passing_math)\n",
    "print(\"-------------------------------------------------------------------------\")\n",
    "print(\"Percent of Students Passing Reading Per School\")\n",
    "print(per_school_passing_reading)\n",
    "print(\"-------------------------------------------------------------------------\")\n",
    "print(\"Percent of Overall Passing Students Per School\")\n",
    "print(overall_passing_rate)"
   ]
  },
  {
   "cell_type": "code",
   "execution_count": null,
   "metadata": {},
   "outputs": [],
   "source": [
    "print(overall_passing_rate)"
   ]
  },
  {
   "cell_type": "code",
   "execution_count": null,
   "metadata": {},
   "outputs": [],
   "source": [
    "# Create a DataFrame called `per_school_summary` with columns for the calculations above.\n",
    "per_school_summary = pd.DataFrame({\n",
    "    \"Student Count Per School\": per_school_counts,\n",
    "    \"Total School Budget\" : per_school_budget,\n",
    "    \"Per Student Budget\" : per_school_capita,\n",
    "    \"Average  Math Test Scores Per School\" : per_school_math,\n",
    "    \"Average Reading Test Scores Per School\" : per_school_reading,\n",
    "    \"Number of Students Passing Math Per School\" : per_school_students_passing_math,\n",
    "    \"Number of Students Passing Reading Per School\" : per_school_students_passing_reading,\n",
    "    \"Number of Students Passing Overall Per School\" : per_school_students_passing_math_and_reading,\n",
    "    \"Percent of Students Passing Math Per School\" : per_school_passing_math,\n",
    "    \"Percent of Students Passing Reading Per School\" : per_school_passing_reading,\n",
    "    \"Percent of Students Passing Overall Per School\" : overall_passing_rate})\n",
    "\n",
    "\n",
    "# Formatting, use .map() to transform each value in the given variable/series (Xpert Learning Assistant), {:,.2f} to make\n",
    "# the value a float data type with 2 decimal places.\n",
    "per_school_summary[\"Average  Math Test Scores Per School\"] = per_school_summary[\"Average  Math Test Scores Per School\"].map(\"{:,.2f}\".format)\n",
    "per_school_summary[\"Average Reading Test Scores Per School\"] = per_school_summary[\"Average Reading Test Scores Per School\"].map(\"{:,.2f}\".format)\n",
    "\n",
    "# Use a $ for the monetary data\n",
    "per_school_summary[\"Total School Budget\"] = per_school_summary[\"Total School Budget\"].map(\"${:,.2f}\".format)\n",
    "per_school_summary[\"Per Student Budget\"] = per_school_summary[\"Per Student Budget\"].map(\"${:,.2f}\".format)\n",
    "\n",
    "# Use a % for the percentage data\n",
    "per_school_summary[\"Percent of Students Passing Math Per School\"] = per_school_summary[\"Percent of Students Passing Math Per School\"].map(\"{:,.2f}%\".format)\n",
    "per_school_summary[\"Percent of Students Passing Reading Per School\"] = per_school_summary[\"Percent of Students Passing Reading Per School\"].map(\"{:,.2f}%\".format)\n",
    "per_school_summary[\"Percent of Students Passing Overall Per School\"] = per_school_summary[\"Percent of Students Passing Overall Per School\"].map(\"{:,.2f}%\".format)\n",
    "\n",
    "# Display the DataFrame\n",
    "per_school_summary"
   ]
  },
  {
   "cell_type": "markdown",
   "metadata": {},
   "source": [
    "## Highest-Performing Schools (by % Overall Passing)"
   ]
  },
  {
   "cell_type": "code",
   "execution_count": null,
   "metadata": {
    "scrolled": true
   },
   "outputs": [],
   "source": [
    "# Sort the schools by `% Overall Passing` in descending order and display the top 5 rows.\n",
    "top_schools = overall_passing_rate.sort_values(ascending = False)\n",
    "\n",
    "# Make it into a df\n",
    "top_schools_df = pd.DataFrame(top_schools)\n",
    "\n",
    "# Rename the percent column\n",
    "top_schools_df = top_schools_df.rename(columns={0: \"Percent Overall Passing\"})\n",
    "\n",
    "# Format the percent values with map(\"{:,.2f}%\".format)\n",
    "top_schools_df[\"Percent Overall Passing\"] = top_schools_df[\"Percent Overall Passing\"].map(\"{:,.2f}%\".format)\n",
    "\n",
    "top_schools_df.head(5)"
   ]
  },
  {
   "cell_type": "markdown",
   "metadata": {},
   "source": [
    "## Bottom Performing Schools (By % Overall Passing)"
   ]
  },
  {
   "cell_type": "code",
   "execution_count": null,
   "metadata": {},
   "outputs": [],
   "source": [
    "# Sort the schools by `% Overall Passing` in ascending order and display the top 5 rows.\n",
    "bottom_schools = overall_passing_rate.sort_values(ascending = True)\n",
    "\n",
    "# Make it into a df\n",
    "bottom_schools_df = pd.DataFrame(bottom_schools)\n",
    "\n",
    "# Rename the percent column\n",
    "bottom_schools_df = bottom_schools_df.rename(columns={0: \"Percent Overall Passing\"})\n",
    "\n",
    "# Format the percent values with map(\"{:,.2f}%\".format)\n",
    "bottom_schools_df[\"Percent Overall Passing\"] = bottom_schools_df[\"Percent Overall Passing\"].map(\"{:,.2f}%\".format)\n",
    "\n",
    "bottom_schools_df.head(5)"
   ]
  },
  {
   "cell_type": "markdown",
   "metadata": {},
   "source": [
    "## Math Scores by Grade"
   ]
  },
  {
   "cell_type": "code",
   "execution_count": null,
   "metadata": {},
   "outputs": [],
   "source": [
    "# Use the code provided to separate the data by grade\n",
    "ninth_graders = school_data_complete_df[(school_data_complete_df[\"grade\"] == \"9th\")]\n",
    "tenth_graders = school_data_complete_df[(school_data_complete_df[\"grade\"] == \"10th\")]\n",
    "eleventh_graders = school_data_complete_df[(school_data_complete_df[\"grade\"] == \"11th\")]\n",
    "twelfth_graders = school_data_complete_df[(school_data_complete_df[\"grade\"] == \"12th\")]\n",
    "\n",
    "# Group by `school_name` and take the mean of the `math_score` column for each.\n",
    "# Use the filters above in the groupby()\n",
    "ninth_grade_math_scores = ninth_graders.groupby(\"school_name\")[\"math_score\"].mean()\n",
    "tenth_grader_math_scores = tenth_graders.groupby(\"school_name\")[\"math_score\"].mean()\n",
    "eleventh_grader_math_scores = eleventh_graders.groupby(\"school_name\")[\"math_score\"].mean()\n",
    "twelfth_grader_math_scores = twelfth_graders.groupby(\"school_name\")[\"math_score\"].mean()\n",
    "\n",
    "# Combine each of the scores above into single DataFrame called `math_scores_by_grade`\n",
    "math_scores_by_grade = pd.DataFrame({\n",
    "    \"Ninth Grade Average Math Scores\":ninth_grade_math_scores,\n",
    "    \"Tenth Grade Average Math Scores\":tenth_grader_math_scores,\n",
    "    \"Eleventh Grade Average Math Scores\":eleventh_grader_math_scores,\n",
    "    \"Twelth Grade Average Math Scores\":twelfth_grader_math_scores\n",
    "})\n",
    "\n",
    "# Minor data wrangling\n",
    "math_scores_by_grade.index.name = None\n",
    "\n",
    "# Round decimals to two places\n",
    "math_scores_by_grade[\"Ninth Grade Average Math Scores\"] = math_scores_by_grade[\"Ninth Grade Average Math Scores\"].map(\"{:,.2f}\".format)\n",
    "math_scores_by_grade[\"Tenth Grade Average Math Scores\"] = math_scores_by_grade[\"Tenth Grade Average Math Scores\"].map(\"{:,.2f}\".format)\n",
    "math_scores_by_grade[\"Eleventh Grade Average Math Scores\"] = math_scores_by_grade[\"Eleventh Grade Average Math Scores\"].map(\"{:,.2f}\".format)\n",
    "math_scores_by_grade[\"Twelth Grade Average Math Scores\"] = math_scores_by_grade[\"Twelth Grade Average Math Scores\"].map(\"{:,.2f}\".format)\n",
    "\n",
    "# Display the DataFrame\n",
    "math_scores_by_grade"
   ]
  },
  {
   "cell_type": "markdown",
   "metadata": {},
   "source": [
    "## Reading Score by Grade "
   ]
  },
  {
   "cell_type": "code",
   "execution_count": null,
   "metadata": {},
   "outputs": [],
   "source": [
    "# Use the code provided to separate the data by grade\n",
    "ninth_graders = school_data_complete_df[(school_data_complete_df[\"grade\"] == \"9th\")]\n",
    "tenth_graders = school_data_complete_df[(school_data_complete_df[\"grade\"] == \"10th\")]\n",
    "eleventh_graders = school_data_complete_df[(school_data_complete_df[\"grade\"] == \"11th\")]\n",
    "twelfth_graders = school_data_complete_df[(school_data_complete_df[\"grade\"] == \"12th\")]\n",
    "\n",
    "# Group by `school_name` and take the mean of the the `reading_score` column for each.\n",
    "ninth_grade_reading_scores = ninth_graders.groupby(\"school_name\")[\"reading_score\"].mean()\n",
    "tenth_grader_reading_scores = tenth_graders.groupby(\"school_name\")[\"reading_score\"].mean()\n",
    "eleventh_grader_reading_scores = eleventh_graders.groupby(\"school_name\")[\"reading_score\"].mean()\n",
    "twelfth_grader_reading_scores = twelfth_graders.groupby(\"school_name\")[\"reading_score\"].mean()\n",
    "\n",
    "# Combine each of the scores above into single DataFrame called `reading_scores_by_grade`\n",
    "reading_scores_by_grade = pd.DataFrame({\n",
    "    \"9th\":ninth_grade_reading_scores,\n",
    "    \"10th\":tenth_grader_reading_scores,\n",
    "    \"11th\":eleventh_grader_reading_scores,\n",
    "    \"12th\":twelfth_grader_reading_scores\n",
    "})\n",
    "\n",
    "# Minor data wrangling\n",
    "reading_scores_by_grade = reading_scores_by_grade[[\"9th\", \"10th\", \"11th\", \"12th\"]].applymap(\"{:,.2f}\".format)\n",
    "reading_scores_by_grade.index.name = None\n",
    "\n",
    "# Display the DataFrame\n",
    "reading_scores_by_grade"
   ]
  },
  {
   "cell_type": "markdown",
   "metadata": {},
   "source": [
    "## Scores by School Spending"
   ]
  },
  {
   "cell_type": "code",
   "execution_count": null,
   "metadata": {
    "scrolled": false
   },
   "outputs": [],
   "source": [
    "# Use .cut() to go through the data in the \"Per Student Budget\" and find values within the ranges of spending_bins and categorizing them based on that\n",
    "\n",
    "# Clean the \"Per Student Budget\" column by removing non-numeric characters\n",
    "per_school_summary[\"Per Student Budget\"] = per_school_summary[\"Per Student Budget\"].astype(str).str.replace('$', '').str.replace('.00', '').astype(int)\n",
    "\n",
    "\n",
    "\n",
    "# Establish the bins \n",
    "# The labels = [1,2,3,4] correspond to [\"<$585\", \"$585-630\", \"$630-645\", \"$645-680\"]\n",
    "spending_bins = [0, 585, 630, 645, 680]\n",
    "labels = [1, 2, 3, 4]\n",
    "\n",
    "# Categorize spending based on the bins\n",
    "# Convert \"Per Student Budget\" to integers\n",
    "per_school_summary[\"Per Student Budget\"] = per_school_summary[\"Per Student Budget\"].astype(int)\n",
    "\n",
    "per_school_summary[\"Spending Ranges (Per Student)\"] = pd.cut(per_school_summary[\"Per Student Budget\"], bins=spending_bins, labels=labels, include_lowest=True)\n",
    "\n",
    "# Calculate mean scores per spending range\n",
    "spending_math_scores = per_school_summary.groupby([\"Spending Ranges (Per Student)\"])[\"Average  Math Test Scores Per School\"].mean()\n",
    "# spending_reading_scores = per_school_summary.groupby([\"Spending Ranges (Per Student)\"])[\"Average Reading Test Scores Per School\"].mean()\n",
    "# spending_passing_math = per_school_summary.groupby([\"Spending Ranges (Per Student)\"])[\"Percent of Students Passing Math Per School\"].mean()\n",
    "# spending_passing_reading = per_school_summary.groupby([\"Spending Ranges (Per Student)\"])[\"Percent of Students Passing Reading Per School\"].mean()\n",
    "# overall_passing_spending = per_school_summary.groupby([\"Spending Ranges (Per Student)\"])[\"Percent of Students Passing Overall Per School\"].mean()\n",
    "\n",
    "\n",
    "# # Create a DataFrame to summarize the results\n",
    "# spending_summary = pd.DataFrame({\n",
    "#     \"Average Math Score\": spending_math_scores,\n",
    "#     \"Average Reading Score\": spending_reading_scores,\n",
    "#     \"% Passing Math\": spending_passing_math,\n",
    "#     \"% Passing Reading\": spending_passing_reading,\n",
    "#     \"% Overall Passing\": overall_passing_spending\n",
    "# })\n",
    "\n",
    "# # Display the spending summary DataFrame\n",
    "# spending_summary"
   ]
  },
  {
   "cell_type": "code",
   "execution_count": null,
   "metadata": {},
   "outputs": [],
   "source": [
    "# Create a copy of the school summary since it has the \"Per Student Budget\" \n",
    "school_spending_df = per_school_summary.copy()"
   ]
  },
  {
   "cell_type": "code",
   "execution_count": null,
   "metadata": {},
   "outputs": [],
   "source": [
    "# Use `pd.cut` to categorize spending based on the bins.\n",
    "school_spending_df[\"Spending Ranges (Per Student)\"] = \n",
    "school_spending_df"
   ]
  },
  {
   "cell_type": "code",
   "execution_count": null,
   "metadata": {},
   "outputs": [],
   "source": [
    "#  Calculate averages for the desired columns. \n",
    "spending_math_scores = school_spending_df.groupby([\"Spending Ranges (Per Student)\"])[\"Average Math Score\"].mean()\n",
    "spending_reading_scores = school_spending_df.groupby([\"Spending Ranges (Per Student)\"])[\"Average Reading Score\"].mean()\n",
    "spending_passing_math = school_spending_df.groupby([\"Spending Ranges (Per Student)\"])[\"% Passing Math\"].mean()\n",
    "spending_passing_reading = school_spending_df.groupby([\"Spending Ranges (Per Student)\"])[\"% Passing Reading\"].mean()\n",
    "overall_passing_spending = school_spending_df.groupby([\"Spending Ranges (Per Student)\"])[\"% Overall Passing\"].mean()"
   ]
  },
  {
   "cell_type": "code",
   "execution_count": null,
   "metadata": {},
   "outputs": [],
   "source": [
    "# Assemble into DataFrame\n",
    "spending_summary = \n",
    "\n",
    "# Display results\n",
    "spending_summary"
   ]
  },
  {
   "cell_type": "markdown",
   "metadata": {},
   "source": [
    "## Scores by School Size"
   ]
  },
  {
   "cell_type": "code",
   "execution_count": null,
   "metadata": {},
   "outputs": [],
   "source": [
    "# Establish the bins.\n",
    "size_bins = [0, 1000, 2000, 5000]\n",
    "labels = [\"Small (<1000)\", \"Medium (1000-2000)\", \"Large (2000-5000)\"]"
   ]
  },
  {
   "cell_type": "code",
   "execution_count": null,
   "metadata": {},
   "outputs": [],
   "source": [
    "# Categorize the spending based on the bins\n",
    "# Use `pd.cut` on the \"Total Students\" column of the `per_school_summary` DataFrame.\n",
    "\n",
    "per_school_summary[\"School Size\"] = \n",
    "per_school_summary"
   ]
  },
  {
   "cell_type": "code",
   "execution_count": null,
   "metadata": {},
   "outputs": [],
   "source": [
    "# Calculate averages for the desired columns. \n",
    "size_math_scores = per_school_summary.groupby([\"School Size\"])[\"Average Math Score\"].mean()\n",
    "size_reading_scores = per_school_summary.groupby([\"School Size\"])[\"Average Reading Score\"].mean()\n",
    "size_passing_math = per_school_summary.groupby([\"School Size\"])[\"% Passing Math\"].mean()\n",
    "size_passing_reading = per_school_summary.groupby([\"School Size\"])[\"% Passing Reading\"].mean()\n",
    "size_overall_passing = per_school_summary.groupby([\"School Size\"])[\"% Overall Passing\"].mean()"
   ]
  },
  {
   "cell_type": "code",
   "execution_count": null,
   "metadata": {
    "scrolled": true
   },
   "outputs": [],
   "source": [
    "# Create a DataFrame called `size_summary` that breaks down school performance based on school size (small, medium, or large).\n",
    "# Use the scores above to create a new DataFrame called `size_summary`\n",
    "size_summary = \n",
    "\n",
    "# Display results\n",
    "size_summary"
   ]
  },
  {
   "cell_type": "markdown",
   "metadata": {},
   "source": [
    "## Scores by School Type"
   ]
  },
  {
   "cell_type": "code",
   "execution_count": null,
   "metadata": {},
   "outputs": [],
   "source": [
    "# Group the per_school_summary DataFrame by \"School Type\" and average the results.\n",
    "average_math_score_by_type = per_school_summary.groupby([\"School Type\"])[\"Average Math Score\"].mean()\n",
    "average_reading_score_by_type = per_school_summary.groupby([\"School Type\"])[\"Average Reading Score\"].mean()\n",
    "average_percent_passing_math_by_type = per_school_summary.groupby([\"School Type\"])[\"% Passing Math\"].mean()\n",
    "average_percent_passing_reading_by_type = per_school_summary.groupby([\"School Type\"])[\"% Passing Reading\"].mean()\n",
    "average_percent_overall_passing_by_type = per_school_summary.groupby([\"School Type\"])[\"% Overall Passing\"].mean()"
   ]
  },
  {
   "cell_type": "code",
   "execution_count": null,
   "metadata": {},
   "outputs": [],
   "source": [
    "# Assemble the new data by type into a DataFrame called `type_summary`\n",
    "type_summary = \n",
    "\n",
    "# Display results\n",
    "type_summary"
   ]
  },
  {
   "cell_type": "code",
   "execution_count": null,
   "metadata": {},
   "outputs": [],
   "source": []
  }
 ],
 "metadata": {
  "anaconda-cloud": {},
  "kernel_info": {
   "name": "python3"
  },
  "kernelspec": {
   "display_name": "Python 3 (ipykernel)",
   "language": "python",
   "name": "python3"
  },
  "language_info": {
   "codemirror_mode": {
    "name": "ipython",
    "version": 3
   },
   "file_extension": ".py",
   "mimetype": "text/x-python",
   "name": "python",
   "nbconvert_exporter": "python",
   "pygments_lexer": "ipython3",
   "version": "3.10.13"
  },
  "latex_envs": {
   "LaTeX_envs_menu_present": true,
   "autoclose": false,
   "autocomplete": true,
   "bibliofile": "biblio.bib",
   "cite_by": "apalike",
   "current_citInitial": 1,
   "eqLabelWithNumbers": true,
   "eqNumInitial": 1,
   "hotkeys": {
    "equation": "Ctrl-E",
    "itemize": "Ctrl-I"
   },
   "labels_anchors": false,
   "latex_user_defs": false,
   "report_style_numbering": false,
   "user_envs_cfg": false
  },
  "nteract": {
   "version": "0.8.4"
  },
  "vscode": {
   "interpreter": {
    "hash": "5384d77d82de63fd599f73e77f9ec786e7719288bf80a29ec0288c670ac3cf32"
   }
  }
 },
 "nbformat": 4,
 "nbformat_minor": 4
}
